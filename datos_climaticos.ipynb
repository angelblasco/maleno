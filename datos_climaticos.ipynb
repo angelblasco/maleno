{
 "cells": [
  {
   "cell_type": "code",
   "execution_count": 10,
   "metadata": {},
   "outputs": [],
   "source": [
    "import pandas as pd"
   ]
  },
  {
   "cell_type": "code",
   "execution_count": 11,
   "metadata": {},
   "outputs": [],
   "source": [
    "df = pd.read_csv(\"C:\\GitHub\\maleno\\csv\\weatherdata-404-38.csv\", sep=\",\")"
   ]
  },
  {
   "cell_type": "code",
   "execution_count": 12,
   "metadata": {},
   "outputs": [
    {
     "data": {
      "text/html": [
       "<div>\n",
       "<style scoped>\n",
       "    .dataframe tbody tr th:only-of-type {\n",
       "        vertical-align: middle;\n",
       "    }\n",
       "\n",
       "    .dataframe tbody tr th {\n",
       "        vertical-align: top;\n",
       "    }\n",
       "\n",
       "    .dataframe thead th {\n",
       "        text-align: right;\n",
       "    }\n",
       "</style>\n",
       "<table border=\"1\" class=\"dataframe\">\n",
       "  <thead>\n",
       "    <tr style=\"text-align: right;\">\n",
       "      <th></th>\n",
       "      <th>Date</th>\n",
       "      <th>Longitude</th>\n",
       "      <th>Latitude</th>\n",
       "      <th>Elevation</th>\n",
       "      <th>Max Temperature</th>\n",
       "      <th>Min Temperature</th>\n",
       "      <th>Precipitation</th>\n",
       "      <th>Wind</th>\n",
       "      <th>Relative Humidity</th>\n",
       "      <th>Solar</th>\n",
       "    </tr>\n",
       "  </thead>\n",
       "  <tbody>\n",
       "    <tr>\n",
       "      <th>1/1/1979</th>\n",
       "      <td>-3.75</td>\n",
       "      <td>40.433601</td>\n",
       "      <td>577</td>\n",
       "      <td>9.718</td>\n",
       "      <td>7.128</td>\n",
       "      <td>1.733780</td>\n",
       "      <td>5.163229</td>\n",
       "      <td>0.855994</td>\n",
       "      <td>2.728407</td>\n",
       "      <td>NaN</td>\n",
       "    </tr>\n",
       "    <tr>\n",
       "      <th>1/2/1979</th>\n",
       "      <td>-3.75</td>\n",
       "      <td>40.433601</td>\n",
       "      <td>577</td>\n",
       "      <td>9.980</td>\n",
       "      <td>3.838</td>\n",
       "      <td>2.238464</td>\n",
       "      <td>1.855077</td>\n",
       "      <td>0.856815</td>\n",
       "      <td>8.804866</td>\n",
       "      <td>NaN</td>\n",
       "    </tr>\n",
       "    <tr>\n",
       "      <th>1/3/1979</th>\n",
       "      <td>-3.75</td>\n",
       "      <td>40.433601</td>\n",
       "      <td>577</td>\n",
       "      <td>8.930</td>\n",
       "      <td>2.561</td>\n",
       "      <td>5.245969</td>\n",
       "      <td>5.886357</td>\n",
       "      <td>0.923347</td>\n",
       "      <td>0.617175</td>\n",
       "      <td>NaN</td>\n",
       "    </tr>\n",
       "    <tr>\n",
       "      <th>1/4/1979</th>\n",
       "      <td>-3.75</td>\n",
       "      <td>40.433601</td>\n",
       "      <td>577</td>\n",
       "      <td>7.288</td>\n",
       "      <td>4.870</td>\n",
       "      <td>2.192113</td>\n",
       "      <td>5.598545</td>\n",
       "      <td>0.879617</td>\n",
       "      <td>3.607707</td>\n",
       "      <td>NaN</td>\n",
       "    </tr>\n",
       "    <tr>\n",
       "      <th>1/5/1979</th>\n",
       "      <td>-3.75</td>\n",
       "      <td>40.433601</td>\n",
       "      <td>577</td>\n",
       "      <td>7.113</td>\n",
       "      <td>1.502</td>\n",
       "      <td>0.058365</td>\n",
       "      <td>1.473567</td>\n",
       "      <td>0.857506</td>\n",
       "      <td>8.281462</td>\n",
       "      <td>NaN</td>\n",
       "    </tr>\n",
       "  </tbody>\n",
       "</table>\n",
       "</div>"
      ],
      "text/plain": [
       "          Date  Longitude  Latitude  Elevation  Max Temperature  \\\n",
       "1/1/1979 -3.75  40.433601       577      9.718            7.128   \n",
       "1/2/1979 -3.75  40.433601       577      9.980            3.838   \n",
       "1/3/1979 -3.75  40.433601       577      8.930            2.561   \n",
       "1/4/1979 -3.75  40.433601       577      7.288            4.870   \n",
       "1/5/1979 -3.75  40.433601       577      7.113            1.502   \n",
       "\n",
       "          Min Temperature  Precipitation      Wind  Relative Humidity  Solar  \n",
       "1/1/1979         1.733780       5.163229  0.855994           2.728407    NaN  \n",
       "1/2/1979         2.238464       1.855077  0.856815           8.804866    NaN  \n",
       "1/3/1979         5.245969       5.886357  0.923347           0.617175    NaN  \n",
       "1/4/1979         2.192113       5.598545  0.879617           3.607707    NaN  \n",
       "1/5/1979         0.058365       1.473567  0.857506           8.281462    NaN  "
      ]
     },
     "execution_count": 12,
     "metadata": {},
     "output_type": "execute_result"
    }
   ],
   "source": [
    "df.head()"
   ]
  },
  {
   "cell_type": "code",
   "execution_count": 13,
   "metadata": {},
   "outputs": [
    {
     "ename": "NameError",
     "evalue": "name 'Date' is not defined",
     "output_type": "error",
     "traceback": [
      "\u001b[1;31m---------------------------------------------------------------------------\u001b[0m",
      "\u001b[1;31mNameError\u001b[0m                                 Traceback (most recent call last)",
      "\u001b[1;32m<ipython-input-13-1a056dd2f3a2>\u001b[0m in \u001b[0;36m<module>\u001b[1;34m\u001b[0m\n\u001b[1;32m----> 1\u001b[1;33m \u001b[0mfechas\u001b[0m \u001b[1;33m=\u001b[0m \u001b[0mpd\u001b[0m\u001b[1;33m.\u001b[0m\u001b[0mDataFrame\u001b[0m\u001b[1;33m(\u001b[0m\u001b[1;33m{\u001b[0m\u001b[1;34m'Fecha'\u001b[0m\u001b[1;33m:\u001b[0m\u001b[0mDate\u001b[0m\u001b[1;33m,\u001b[0m \u001b[1;34m'Longitud'\u001b[0m\u001b[1;33m:\u001b[0m\u001b[0mLongitude\u001b[0m\u001b[1;33m}\u001b[0m\u001b[1;33m)\u001b[0m\u001b[1;33m\u001b[0m\u001b[1;33m\u001b[0m\u001b[0m\n\u001b[0m",
      "\u001b[1;31mNameError\u001b[0m: name 'Date' is not defined"
     ]
    }
   ],
   "source": [
    "fechas = pd.DataFrame({'Fecha':Date, 'Longitud':Longitude})"
   ]
  },
  {
   "cell_type": "code",
   "execution_count": null,
   "metadata": {},
   "outputs": [],
   "source": []
  }
 ],
 "metadata": {
  "kernelspec": {
   "display_name": "Python 3",
   "language": "python",
   "name": "python3"
  },
  "language_info": {
   "codemirror_mode": {
    "name": "ipython",
    "version": 3
   },
   "file_extension": ".py",
   "mimetype": "text/x-python",
   "name": "python",
   "nbconvert_exporter": "python",
   "pygments_lexer": "ipython3",
   "version": "3.7.3"
  }
 },
 "nbformat": 4,
 "nbformat_minor": 2
}
